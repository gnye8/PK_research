{
 "cells": [
  {
   "cell_type": "code",
   "execution_count": 5,
   "id": "6c67e781",
   "metadata": {},
   "outputs": [],
   "source": [
    "from Bio import SeqIO\n",
    "import pandas as pd\n",
    "\n",
    "def get_seq(seq_filename):\n",
    "    record = SeqIO.read(seq_filename, \"fasta\")\n",
    "    return str(record.seq)\n",
    "\n",
    "def get_shape_data(filename):\n",
    "    shape = []\n",
    "    with open(filename) as f:\n",
    "        for line in f:\n",
    "            line = line.strip()\n",
    "            shape.append(line)\n",
    "            \n",
    "    # for i in range(len(shape)):\n",
    "        # shape[i] = (-1) if (shape[i] == 'nan') else (float(shape[i]))\n",
    "        \n",
    "    return shape\n",
    "\n",
    "def get_sliding_windows(full_seq, shape, step, window):\n",
    "    coords = list(range(0,len(full_seq)-window+1,step))\n",
    "    seq_windows = []\n",
    "    shape_windows = []\n",
    "    for i in coords:\n",
    "        new_seq_window = full_seq[i:i+window]\n",
    "        seq_windows.append(new_seq_window)\n",
    "        new_shape_window = shape[i:i+window]\n",
    "        shape_windows.append(new_shape_window)\n",
    "        \n",
    "    return seq_windows, shape_windows, coords\n",
    "\n",
    "full_sars = get_seq('/home/gnye8/Desktop/PK_research/SSRP_work/fasta_files/SARS_CoV2_reference.fasta')\n",
    "full_shape = get_shape_data('/home/gnye8/Desktop/PK_research/SSRP_work/shape_data/incarnato_invivo_reactivity-Copy1.csv')"
   ]
  },
  {
   "cell_type": "code",
   "execution_count": 4,
   "id": "643cc3e2",
   "metadata": {},
   "outputs": [
    {
     "name": "stdout",
     "output_type": "stream",
     "text": [
      "GAUUGAACGCUGGCGGCAGGCCUAACACAUGCAAGUCGAACGGUAACAGGAAGAAGCUUGCUUCUUUGCUGACGAGUGGCGGACGGGUGAGUAAUGUCUGGGAAACUGCCUGAUGGAGGGGGAUAACUACUGGAAACGGUAGCUAAUACCGCAUAACGUCGCAAGACCAAAGAGGGGGACCUUCGGGCCUCUUGCCAUCGGAUGUGCCCAGAUGGGAUUAGCUAGUAGGUGGGGUAACGGCUCACCUAGGCGACGAUCCCUAGCUGGUCUGAGAGGAUGACCAGCCACACUGGAACUGAGACACGGUCCAGACUCCUACGGGAGGCAGCAGUGGGGAAUAUUGCACAAUGGGCGCAAGCCUGAUGCAGCCAUGCCGCGUGUAUGAAGAAGGCCUUCGGGUUGUAAAGUACUUUCAGCGGGGAGGAAGGGAGUAAAGUUAAUACCUUUGCUCAUUGACGUUACCCGCAGAAGAAGCACCGGCUAACUCCGUGCCAGCAGCCGCGGUAAUACGGAGGGUGCAAGCGUUAAUC\n"
     ]
    }
   ],
   "source": [
    "seq0 = get_seq('/home/gnye8/Desktop/PK_research/threshknot_fold_benchmarking/shapeknots_benchmark_sets/seq_files/0.fasta')\n",
    "print(seq0)"
   ]
  },
  {
   "cell_type": "code",
   "execution_count": 6,
   "id": "c2266676",
   "metadata": {},
   "outputs": [
    {
     "name": "stdout",
     "output_type": "stream",
     "text": [
      "['-999.0', '1.662', '-999.0', '-999.0', '1.55', '0.411', '0.071', '0.014', '0.056', '0.2', '2.674', '2.747', '0.0', '0.0', '0.0', '0.303', '0.012', '0.131', '0.0', '0.0', '0.04', '0.265', '1.537', '1.017', '1.16', '0.0', '0.088', '0.092', '1.596', '0.398', '0.016', '0.258', '1.49', '2.333', '0.455', '0.168', '0.034', '0.125', '0.801', '0.239', '0.009', '0.455', '0.0', '0.08', '0.307', '0.26', '0.027', '0.05', '0.113', '0.105', '0.071', '0.037', '0.028', '0.057', '0.032', '0.0', '0.521', '1.224', '2.481', '0.889', '0.062', '0.091', '0.011', '0.023', '0.007', '0.053', '0.431', '0.102', '0.015', '0.0', '0.164', '0.071', '0.13', '0.427', '0.665', '0.262', '0.109', '0.029', '0.174', '0.025', '0.365', '1.65', '0.693', '0.89', '1.647', '1.216', '0.119', '0.006', '0.319', '0.683', '0.535', '1.138', '1.128', '0.999', '1.374', '0.0', '0.07', '0.017', '0.0', '0.0', '0.0', '0.12', '1.546', '1.295', '0.532', '0.249', '0.836', '0.726', '0.363', '0.091', '0.718', '0.08', '0.068', '0.074', '0.048', '0.045', '0.0', '0.058', '0.215', '0.106', '0.005', '0.131', '0.182', '0.225', '0.29', '0.14', '0.012', '0.022', '0.055', '0.0', '0.024', '0.05', '0.114', '0.944', '0.501', '1.05', '0.142', '0.02', '0.019', '0.032', '0.004', '0.024', '0.246', '0.298', '0.185', '0.157', '1.274', '0.31', '0.01', '0.233', '5.047', '0.0', '0.117', '0.15', '0.295', '0.108', '0.47', '0.031', '0.024', '0.013', '0.245', '1.134', '0.782', '1.13', '0.029', '0.078', '0.034', '0.267', '0.133', '0.121', '0.101', '0.285', '0.133', '0.077', '0.052', '0.034', '0.365', '1.365', '1.589', '0.037', '0.093', '0.396', '0.037', '1.307', '0.908', '0.123', '0.051', '0.0', '0.019', '0.054', '0.015', '0.136', '0.144', '0.053', '0.012', '0.013', '0.031', '0.021', '0.0', '0.097', '0.164', '0.505', '0.559', '0.408', '0.357', '0.395', '0.029', '0.007', '0.004', '0.057', '0.107', '0.3', '0.825', '0.155', '0.079', '0.096', '0.123', '0.246', '1.221', '1.368', '0.0', '0.007', '0.138', '1.277', '0.344', '0.209', '0.049', '0.024', '0.031', '0.028', '0.016', '0.073', '0.021', '0.15', '0.207', '0.442', '0.359', '0.107', '0.142', '0.323', '0.004', '0.019', '0.002', '0.017', '0.007', '0.0', '0.03', '0.387', '0.019', '0.041', '0.014', '0.356', '0.842', '1.121', '0.688', '0.181', '0.008', '0.003', '0.0', '0.123', '1.36', '0.784', '0.145', '0.002', '0.033', '0.034', '0.025', '0.007', '0.039', '0.766', '0.877', '1.258', '2.081', '1.588', '2.187', '1.382', '0.734', '1.057', '0.034', '0.036', '0.009', '0.016', '0.05', '0.037', '0.098', '0.299', '0.681', '0.025', '0.604', '0.117', '0.223', '0.401', '0.695', '0.943', '0.908', '0.225', '0.487', '0.842', '1.495', '1.559', '1.054', '0.628', '1.366', '1.065', '0.886', '0.317', '0.126', '0.062', '0.117', '0.475', '1.549', '0.572', '0.0', '0.046', '0.086', '0.294', '-999.0', '0.258', '0.902', '0.562', '0.141', '0.183', '0.127', '0.32', '0.709', '0.955', '0.722', '0.327', '0.174', '0.308', '0.248', '0.135', '0.185', '0.328', '0.792', '1.051', '1.539', '1.55', '1.223', '1.636', '1.394', '0.671', '0.166', '0.14', '0.557', '0.76', '2.101', '1.666', '1.525', '0.436', '0.056', '0.026', '0.025', '0.21', '1.346', '1.332', '1.783', '0.083', '0.026', '0.012', '0.664', '1.237', '1.61', '0.605', '0.038', '0.158', '1.304', '0.189', '0.039', '0.232', '0.953', '0.228', '0.04', '0.03', '0.006', '0.066', '0.551', '2.117', '1.848', '0.328', '0.175', '0.175', '0.22', '0.251', '0.428', '1.479', '0.365', '0.186', '0.068', '0.092', '0.065', '0.024', '0.052', '0.177', '0.593', '0.775', '0.309', '0.15', '0.171', '0.18', '0.228', '0.115', '0.186', '0.321', '0.235', '0.236', '0.196', '0.165', '0.124', '0.419', '1.647', '0.832', '0.413', '0.483', '0.515', '0.014', '0.013', '0.011', '0.006', '0.028', '0.059', '0.648', '0.332', '0.317', '0.294', '0.47', '0.512', '0.565', '0.024', '0.019', '0.017', '0.052', '0.051', '0.043', '0.023', '0.07', '0.432', '0.802', '0.801', '0.64', '1.013', '0.378', '0.303', '0.008', '0.018', '0.04', '0.033', '0.025', '0.008', '0.015', '0.027', '0.678', '0.865', '0.419', '0.497', '0.464', '0.041', '0.2', '1.208', '0.478', '0.43', '0.0', '0.004', '0.0', '0.0', '0.022', '0.555', '0.723', '0.522', '1.02', '1.717', '1.368', '1.303', '0.039', '0.014', '0.09', '0.039', '0.191', '1.697', '2.168', '1.365', '1.626', '0.651', '0.401', '0.009', '0.055', '0.004', '0.028', '0.043', '0.013', '0.097', '0.052', '0.212', '1.441', '0.13', '0.243', '0.592', '1.187', '0.376', '0.666', '0.866', '0.08', '0.017', '0.336', '0.559', '1.553', '2.761', '2.372', '0.192', '0.058', '0.067', '0.072', '0.124', '0.418', '0.0', '0.081', '0.031', '0.075', '0.408', '0.98', '0.332', '0.091', '0.025', '0.057', '0.12', '0.247', '0.193', '0.163', '0.103', '0.109']\n"
     ]
    }
   ],
   "source": [
    "shape0 = get_shape_data('/home/gnye8/Desktop/PK_research/threshknot_fold_benchmarking/shapeknots_benchmark_sets/shape_files/0.txt')\n",
    "print(shape0)"
   ]
  },
  {
   "cell_type": "code",
   "execution_count": 7,
   "id": "7bd37e93",
   "metadata": {},
   "outputs": [
    {
     "name": "stdout",
     "output_type": "stream",
     "text": [
      "530\n",
      "530\n"
     ]
    }
   ],
   "source": [
    "print(len(seq0))\n",
    "print(len(shape0))"
   ]
  },
  {
   "cell_type": "code",
   "execution_count": 14,
   "id": "832633d8",
   "metadata": {},
   "outputs": [
    {
     "name": "stdout",
     "output_type": "stream",
     "text": [
      "seq and shape 17 do not match\n",
      "seq and shape 23 do not match\n"
     ]
    }
   ],
   "source": [
    "for i in range(24):\n",
    "    seq = get_seq('/home/gnye8/Desktop/PK_research/threshknot_fold_benchmarking/shapeknots_benchmark_sets/seq_files/{}.fasta'.format(i))\n",
    "    shape = get_shape_data('/home/gnye8/Desktop/PK_research/threshknot_fold_benchmarking/shapeknots_benchmark_sets/shape_files/{}.txt'.format(i))\n",
    "    if len(seq) != len(shape):\n",
    "        print('seq and shape {} do not match'.format(i))"
   ]
  },
  {
   "cell_type": "code",
   "execution_count": 16,
   "id": "3c36276b",
   "metadata": {},
   "outputs": [
    {
     "name": "stdout",
     "output_type": "stream",
     "text": [
      "82\n",
      "79\n",
      "473\n",
      "79\n",
      "['6.426', '-0.048', '3.32', '0.262', '1.0', '1.359', '0.456', '0.748', '0.758', '0.436', '0.446', '0.33', '-2.456', '-2.301', '0.272', '0.224', '0.282', '0.02', '0.097', '0.156', '-0.214', '-0.388', '-1.456', '0.912', '0.718', '-0.31', '-0.378', '-0.476', '-0.106', '0.088', '-0.708', '-0.301', '0.0', '-0.34', '0.214', '0.36', '0.156', '-0.088', '-0.146', '-0.204', '-0.854', '1.088', '-0.038', '-2.291', '0.058', '-0.428', '-0.058', '-0.078', '-0.31', '-0.038', '0.165', '-0.252', '0.67', '0.602', '0.33', '1.291', '0.194', '0.418', '0.088', '0.816', '-1.194', '0.31', '0.038', '-0.893', '0.495', '-0.33', '0.796', '0.048', '0.699', '-0.146', '0.602', '-0.097', '0.33', '0.146', '-0.776', '0.893', '-1.495', '-1.369', '-1.204']\n"
     ]
    }
   ],
   "source": [
    "seq17 = get_seq('/home/gnye8/Desktop/PK_research/threshknot_fold_benchmarking/shapeknots_benchmark_sets/seq_files/17.fasta')\n",
    "seq23 = get_seq('/home/gnye8/Desktop/PK_research/threshknot_fold_benchmarking/shapeknots_benchmark_sets/seq_files/23.fasta')\n",
    "shape17 = get_shape_data('/home/gnye8/Desktop/PK_research/threshknot_fold_benchmarking/shapeknots_benchmark_sets/shape_files/17.txt')\n",
    "shape23 = get_shape_data('/home/gnye8/Desktop/PK_research/threshknot_fold_benchmarking/shapeknots_benchmark_sets/shape_files/17.txt')\n",
    "\n",
    "print(len(seq17))\n",
    "print(len(shape17))\n",
    "\n",
    "print(len(seq23))\n",
    "print(len(shape23))\n",
    "\n",
    "print(shape17)"
   ]
  },
  {
   "cell_type": "code",
   "execution_count": 15,
   "id": "d8840403",
   "metadata": {},
   "outputs": [
    {
     "name": "stdout",
     "output_type": "stream",
     "text": [
      "['6.426', '-0.048', '3.32', '0.262', '1.0', '1.359', '0.456', '0.748', '0.758', '0.436', '0.446', '0.33', '-2.456', '-2.301', '0.272', '0.224', '0.282', '0.02', '0.097', '0.156', '-0.214', '-0.388', '-1.456', '0.912', '0.718', '-0.31', '-0.378', '-0.476', '-0.106', '0.088', '-0.708', '-0.301', '0.0', '-0.34', '0.214', '0.36', '0.156', '-0.088', '-0.146', '-0.204', '-0.854', '1.088', '-0.038', '-2.291', '0.058', '-0.428', '-0.058', '-0.078', '-0.31', '-0.038', '0.165', '-0.252', '0.67', '0.602', '0.33', '1.291', '0.194', '0.418', '0.088', '0.816', '-1.194', '0.31', '0.038', '-0.893', '0.495', '-0.33', '0.796', '0.048', '0.699', '-0.146', '0.602', '-0.097', '0.33', '0.146', '-0.776', '0.893', '-1.495', '-1.369', '-1.204']\n"
     ]
    }
   ],
   "source": [
    "print(shape23)"
   ]
  },
  {
   "cell_type": "code",
   "execution_count": 19,
   "id": "f465fdf3",
   "metadata": {
    "scrolled": true
   },
   "outputs": [
    {
     "name": "stdout",
     "output_type": "stream",
     "text": [
      "82\n",
      "82\n"
     ]
    }
   ],
   "source": [
    "seq_sars = get_seq('/home/gnye8/Downloads/ShapeKnots_DATA/sequences_ct_files/SARS.fasta')\n",
    "print(len(seq_sars))\n",
    "print(len(seq17))"
   ]
  },
  {
   "cell_type": "code",
   "execution_count": 46,
   "id": "e46ce2d6",
   "metadata": {},
   "outputs": [],
   "source": [
    "df = pd.read_csv('/home/gnye8/Desktop/PK_research/threshknot_fold_benchmarking/shapeknots_benchmark_sets/Copy of ShapeKnots_SNRNASM.csv')"
   ]
  },
  {
   "cell_type": "code",
   "execution_count": 45,
   "id": "8e944ad8",
   "metadata": {},
   "outputs": [
    {
     "name": "stdout",
     "output_type": "stream",
     "text": [
      "[6.426, -0.048, 3.32, 0.262, 1.0, 1.359, 0.456, 0.748, 0.758, 0.436, 0.446, 0.33, -2.456, -2.301, 0.272, 0.224, 0.282, 0.02, 0.097, 0.156, -0.214, -0.388, -1.456, 0.912, 0.718, -0.31, -0.378, -0.476, -0.106, 0.088, -0.708, -0.301, 0.0, -0.34, 0.214, 0.36, 0.156, -0.088, -0.146, -0.204, -0.854, 1.088, -0.038, -2.291, 0.058, -0.428, -0.058, -0.078, -0.31, -0.038, 0.165, -0.252, 0.67, 0.602, 0.33, 1.291, 0.194, 0.418, 0.088, 0.816, -1.194, 0.31, 0.038, -0.893, 0.495, -0.33, 0.796, 0.048, 0.699, -0.146, 0.602, -0.097, 0.33, 0.146, -0.776, 0.893, -1.495, -1.369, -1.204]\n",
      "79\n"
     ]
    }
   ],
   "source": [
    "sars_shape = df['SARS corona virus pseudoknot '].to_list()\n",
    "shape = []\n",
    "for char in sars_shape:\n",
    "    if str(char) != 'nan':\n",
    "        shape.append(char)\n",
    "        \n",
    "print(shape)\n",
    "print(len(shape))"
   ]
  },
  {
   "cell_type": "code",
   "execution_count": 60,
   "id": "66e07b64",
   "metadata": {},
   "outputs": [
    {
     "name": "stdout",
     "output_type": "stream",
     "text": [
      "474\n",
      "473\n"
     ]
    }
   ],
   "source": [
    "correct_shape23 = df.iloc[:, 23].to_list()\n",
    "new_shape23 = []\n",
    "for char in correct_shape23:\n",
    "    if str(char) != 'nan':\n",
    "        new_shape23.append(char)\n",
    "        \n",
    "print(len(new_shape23))\n",
    "print(len(seq23))"
   ]
  },
  {
   "cell_type": "code",
   "execution_count": null,
   "id": "9116b767",
   "metadata": {},
   "outputs": [],
   "source": [
    "\n"
   ]
  },
  {
   "cell_type": "code",
   "execution_count": null,
   "id": "64a2f86f",
   "metadata": {},
   "outputs": [],
   "source": []
  },
  {
   "cell_type": "code",
   "execution_count": null,
   "id": "6f112b80",
   "metadata": {},
   "outputs": [],
   "source": [
    "# 0.fasta - 5domain16S E.coli\n",
    "# 1 - 5domain23S E.coli\n",
    "# 2 - 5S rRNA E.coli \n",
    "# 3 - Adenine riboswitch V. \n",
    "# 4 - cyclic-di-GMP\n",
    "# 5 - Fluoride\n",
    "#6 - group II intron \n",
    "#7 - group I intron, Azoarcus\n",
    "#8 - group I intron, thermophila\n",
    "#9 - hepatitus C\n",
    "#10 - HIV-1\n",
    "#11 - Lysine riboswitch\n",
    "#12 - Mbox riboswitch\n",
    "#13 - p546 domain\n",
    "#14 - PreQ1\n",
    "#15 - RNase P\n",
    "#16 - SAM I riboswitch\n",
    "#17 - signal recognition particle\n",
    "#18 - telomerase pseudoknot\n",
    "#19 - tpp riboswitch \n",
    "#20 - tRNA(asp)\n",
    "#21 - tRNA(phe)\n",
    "\n",
    "\n",
    "#SARS corona virus: note that the shape data and the sequence provided are different lengths, so they cannot be used for benchmarking\n",
    "#5' domain 16S rRNA H. volcanii: note that the shape data and sequence are different lengths - cannot be used for benchmarking"
   ]
  },
  {
   "cell_type": "code",
   "execution_count": null,
   "id": "29262700",
   "metadata": {},
   "outputs": [],
   "source": []
  },
  {
   "cell_type": "code",
   "execution_count": null,
   "id": "f0da19a9",
   "metadata": {},
   "outputs": [],
   "source": [
    "import numpy as np\n",
    "import \n",
    "\n",
    "Pcutoff = 0.3\n",
    "shapeknots_bpp1 = np.load(\"bpp_shapeknot_1.npy\")\n",
    "shapeknots_bpp2 = np.load(\"bpp_shapeknot_2.npy\")\n",
    "shapeknots_bpp3 = np.load(\"bpp_shapeknot_3.npy\")\n",
    "shapeknots_bpp4 = np.load(\"bpp_shapeknot_4.npy\")\n",
    "shapeknots_bpp5 = np.load(\"bpp_shapeknot_5.npy\")\n",
    "shapeknots_bpp6 = np.load(\"bpp_shapeknot_6.npy\")\n",
    "fold_bpp1 = np.load(\"bpp_fold_1.npy\")\n",
    "fold_bpp2 = np.load(\"bpp_fold_2.npy\")\n",
    "fold_bpp3 = np.load(\"bpp_fold_3.npy\")\n",
    "result = evaluate_per_bp_pairwise_mean_diff(seq,[shapeknots_bpp1,shapeknots_bpp2,shapeknots_bpp3,\n",
    "            shapeknots_bpp4,shapeknots_bpp5,shapeknots_bpp6],[fold_bpp1,fold_bpp2,fold_bpp3],Pcutoff)"
   ]
  },
  {
   "cell_type": "code",
   "execution_count": null,
   "id": "310eb62f",
   "metadata": {},
   "outputs": [],
   "source": [
    "# then visualize however you want eg\n",
    "sns.set(rc={'figure.figsize':(30,30)})\n",
    "sns.violinplot(x=\"bp\", y=\"diff\",\n",
    "                hue=\"inter/intra\", data=data[data.seq==seq])"
   ]
  },
  {
   "cell_type": "code",
   "execution_count": null,
   "id": "f9eb5c61",
   "metadata": {},
   "outputs": [],
   "source": []
  },
  {
   "cell_type": "code",
   "execution_count": null,
   "id": "b58af2e5",
   "metadata": {},
   "outputs": [],
   "source": []
  },
  {
   "cell_type": "code",
   "execution_count": null,
   "id": "e7e32598",
   "metadata": {},
   "outputs": [],
   "source": []
  }
 ],
 "metadata": {
  "kernelspec": {
   "display_name": "Python 3",
   "language": "python",
   "name": "python3"
  },
  "language_info": {
   "codemirror_mode": {
    "name": "ipython",
    "version": 3
   },
   "file_extension": ".py",
   "mimetype": "text/x-python",
   "name": "python",
   "nbconvert_exporter": "python",
   "pygments_lexer": "ipython3",
   "version": "3.8.8"
  }
 },
 "nbformat": 4,
 "nbformat_minor": 5
}
