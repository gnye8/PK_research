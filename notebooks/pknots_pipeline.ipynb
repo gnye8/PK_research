{
 "cells": [
  {
   "cell_type": "code",
   "execution_count": 1,
   "id": "121734d0",
   "metadata": {},
   "outputs": [],
   "source": [
    "from arnie.pk_predictors import pk_predict\n",
    "from arnie.utils import *"
   ]
  },
  {
   "cell_type": "code",
   "execution_count": 2,
   "id": "2df8286f",
   "metadata": {},
   "outputs": [],
   "source": [
    "test_output = pk_predict(seq = 'AAAAAAAAAAAAAAAAAAAAAAA', predictor = 'pknots')\n",
    "test_function = is_PK(test_output)"
   ]
  },
  {
   "cell_type": "code",
   "execution_count": 3,
   "id": "ba3bd2b9",
   "metadata": {},
   "outputs": [
    {
     "name": "stdout",
     "output_type": "stream",
     "text": [
      "(.....................)\n",
      "False\n"
     ]
    }
   ],
   "source": [
    "print(test_output)\n",
    "print(test_function)"
   ]
  },
  {
   "cell_type": "code",
   "execution_count": 1,
   "id": "00273720",
   "metadata": {},
   "outputs": [],
   "source": [
    "from Bio import SeqIO\n",
    "import arnie\n",
    "from arnie.pk_predictors import pk_predict\n",
    "from arnie.utils import *\n",
    "import pandas as pd\n",
    "import networkx as nx\n",
    "import matplotlib.pyplot as plt\n",
    "\n",
    "# read fasta sequence and convert to string\n",
    "\n",
    "def get_seq(seq_filename):\n",
    "    record = SeqIO.read(seq_filename, \"fasta\")\n",
    "    return str(record.seq)\n",
    "\n",
    "# divide string into list of sliding windows of appropriate length\n",
    "\n",
    "def get_sliding_windows(full_seq, step, window):\n",
    "    coords = list(range(0,len(full_seq)-window+1,step))\n",
    "    windows = []\n",
    "    for i in coords:\n",
    "        new_window = full_seq[i:i+window]\n",
    "        windows.append(new_window)\n",
    "    return windows, coords\n",
    "\n",
    "# returns base pair probability matrix for a given sequence\n",
    "\n",
    "def get_struct(seq, predictor):\n",
    "    dotbracket = pk_predict(seq, predictor)\n",
    "    return dotbracket\n",
    "\n",
    "def get_pseudoknots(seq_filename, step, window, predictor, output_folder):\n",
    "    seq = get_seq(seq_filename)\n",
    "    windows,coords = get_sliding_windows(seq, step=step, window=window)\n",
    "    PK_list = []\n",
    "    for seq,coord in zip(windows,coords):\n",
    "        dotbracket = get_struct(seq, predictor)\n",
    "        if is_PK(dotbracket):\n",
    "            PK_list.append([coord, coord+window, seq, struct])\n",
    "    df = pd.DataFrame(PK_list,columns=[\"start\",\"end\",\"sequence\", \"struct\"])\n",
    "    df.to_csv(f'{output_folder}/pk_predictor_output.csv')"
   ]
  },
  {
   "cell_type": "code",
   "execution_count": null,
   "id": "c2e46d71",
   "metadata": {},
   "outputs": [],
   "source": [
    "test_df = get_pseudoknots(seq_filename = '/home/gnye8/Desktop/PK_research/SSRP_work/fasta_files/SARS_last_1000.fasta', step = 100, window=300, predictor='pknots')"
   ]
  },
  {
   "cell_type": "code",
   "execution_count": null,
   "id": "c4936215",
   "metadata": {},
   "outputs": [],
   "source": []
  }
 ],
 "metadata": {
  "kernelspec": {
   "display_name": "Python 3",
   "language": "python",
   "name": "python3"
  },
  "language_info": {
   "codemirror_mode": {
    "name": "ipython",
    "version": 3
   },
   "file_extension": ".py",
   "mimetype": "text/x-python",
   "name": "python",
   "nbconvert_exporter": "python",
   "pygments_lexer": "ipython3",
   "version": "3.8.8"
  }
 },
 "nbformat": 4,
 "nbformat_minor": 5
}
