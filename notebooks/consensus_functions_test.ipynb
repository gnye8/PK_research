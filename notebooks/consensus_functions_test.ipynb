{
 "cells": [
  {
   "cell_type": "code",
   "execution_count": null,
   "id": "02f9f865",
   "metadata": {},
   "outputs": [],
   "source": [
    "### the purpose of this test set was to test out the average consensus function \n",
    "    #(averages all scores for a particular location)\n",
    "    #rather than the initial consensus functions\n",
    "\n",
    "\n",
    "import pandas as pd\n",
    "\n",
    "testseq1 = 'AACUUGUCUAUAU'\n",
    "testseq2 = 'AACUUGUCUAUAU'\n",
    "testseq3 = 'AUCGUCUGUCUAU'\n",
    "testseqs = [testseq1, testseq2, testseq3]\n",
    "\n",
    "testpk1 = '.((.[[.))..]]'\n",
    "testpk2 = '.((.[..))...]'\n",
    "testpk3 = '((.[[[..))]]]'\n",
    "testpks = [testpk1, testpk2, testpk3]\n",
    "\n",
    "teststart1 = 100\n",
    "teststart2 = 100\n",
    "teststart3 = 200\n",
    "teststarts = [teststart1, teststart2, teststart3]\n",
    "\n",
    "testscore1 = 0.5\n",
    "testscore2 = 0.6\n",
    "testscore3 = 0.7\n",
    "testscores = [testscore1, testscore2, testscore3]\n",
    "\n",
    "testpkscore1 = 0.3\n",
    "testpkscore2 = 0.4\n",
    "testpkscore3 = 0.7\n",
    "testpkscores = [testpkscore1, testpkscore2, testpkscore3]\n",
    "\n",
    "testpklist = zip(testseqs, testpks, teststarts, testscores, testpkscores)\n",
    "\n",
    "testdf = pd.DataFrame(testpklist, columns = ['sequence', 'structure', 'start', 'weighted_consensus_score', 'weighted_pk_bp_consensus_score'])\n",
    "testdf"
   ]
  }
 ],
 "metadata": {
  "kernelspec": {
   "display_name": "Python 3",
   "language": "python",
   "name": "python3"
  },
  "language_info": {
   "codemirror_mode": {
    "name": "ipython",
    "version": 3
   },
   "file_extension": ".py",
   "mimetype": "text/x-python",
   "name": "python",
   "nbconvert_exporter": "python",
   "pygments_lexer": "ipython3",
   "version": "3.8.8"
  }
 },
 "nbformat": 4,
 "nbformat_minor": 5
}
