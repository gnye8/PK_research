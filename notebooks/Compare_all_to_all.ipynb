{
 "cells": [
  {
   "cell_type": "code",
   "execution_count": 1,
   "id": "eb02a6bc",
   "metadata": {},
   "outputs": [],
   "source": [
    "# take csvs of pks predicted by each program \n",
    "# make lists with all the categories (name of program, structure, sequence, start, end)\n",
    "# get shape score for each whole structure and each pk \n",
    "# get rank for each pk \n",
    "# compare all to all \n",
    "# for each base pair in a window, add a point if every other program also predicted the same base pair (or that the base was not paired)\n",
    "# weighted mean - get consensus scores for each pk, then find the weighted average "
   ]
  },
  {
   "cell_type": "code",
   "execution_count": 1,
   "id": "1f1ce191",
   "metadata": {},
   "outputs": [
    {
     "name": "stdout",
     "output_type": "stream",
     "text": [
      "[[4, 15], [5, 14], [6, 13], [9, 19], [10, 18], [4, 15], [5, 14], [6, 13], [9, 19], [4, 15], [5, 14], [6, 13], [10, 18]]\n",
      "[[[4, 15], [5, 14], [6, 13], [9, 19], [10, 18]], [[4, 15], [5, 14], [6, 13], [9, 19]], [[4, 15], [5, 14], [6, 13], [10, 18]]]\n"
     ]
    }
   ],
   "source": [
    "##### compare all to all\n",
    "import pandas as pd \n",
    "\n",
    "seq = 'AAAAGGGAACCAACCCAAGGAAAA'\n",
    "struct1 = '....(((..[[..)))..]]....'\n",
    "struct2 = '....(((..[...)))...]....'\n",
    "struct3 = '....(((...[..)))..].....'\n",
    "\n",
    "bp_list1 = [[4, 15], [5, 14], [6, 13], [9, 19], [10, 18]]\n",
    "bp_list2 = [[4, 15], [5, 14], [6, 13], [9, 19]]\n",
    "bp_list3 = [[4, 15], [5, 14], [6, 13], [10, 18]]\n",
    "\n",
    "start1 = 40\n",
    "start2 = 40\n",
    "start3 = 40\n",
    "\n",
    "bp_lists = []\n",
    "all_bp_lists = bp_lists + bp_list1\n",
    "all_bp_lists = all_bp_lists + bp_list2\n",
    "all_bp_lists = all_bp_lists + bp_list3\n",
    "\n",
    "bp_lists.append(bp_list1)\n",
    "bp_lists.append(bp_list2)\n",
    "bp_lists.append(bp_list3)\n",
    "\n",
    "print(all_bp_lists)\n",
    "print(bp_lists)"
   ]
  },
  {
   "cell_type": "code",
   "execution_count": 2,
   "id": "59df5f01",
   "metadata": {},
   "outputs": [],
   "source": [
    "#### this function takes as input a list of dotbracket structures and bp_lists for pseudoknots predicted in the same window\n",
    "#### returns as output a score for consensus of all to all for each structure\n",
    "\n",
    "def all_to_all(structs_list, bp_lists):\n",
    "    scores = []\n",
    "    for idx, struct in enumerate(structs_list): \n",
    "        score = 0\n",
    "        for i, char in enumerate(struct):\n",
    "            same_np = 0\n",
    "            for other_struct in structs_list: \n",
    "                if (char == '.') and (char == other_struct[i]):\n",
    "                    same_np += 1\n",
    "            if same_np == len(structs_list):\n",
    "                score += 1\n",
    "        for bp in bp_lists[idx]:\n",
    "            same_bp = 0\n",
    "            for bp_list in bp_lists: \n",
    "                for bp2 in bp_list:\n",
    "                    if bp == bp2:\n",
    "                        same_bp += 1\n",
    "            if same_bp == len(bp_lists):\n",
    "                score += 1\n",
    "        \n",
    "        count = 0\n",
    "        for char in struct:\n",
    "            if char == '.':\n",
    "                count += 1\n",
    "        count += len(bp_lists[idx])\n",
    "        \n",
    "        score = score/count\n",
    "        scores.append(score)\n",
    "        \n",
    "    return scores"
   ]
  },
  {
   "cell_type": "code",
   "execution_count": 3,
   "id": "e41f91bd",
   "metadata": {},
   "outputs": [
    {
     "ename": "NameError",
     "evalue": "name 'structs' is not defined",
     "output_type": "error",
     "traceback": [
      "\u001b[0;31m---------------------------------------------------------------------------\u001b[0m",
      "\u001b[0;31mNameError\u001b[0m                                 Traceback (most recent call last)",
      "\u001b[0;32m<ipython-input-3-352829e68638>\u001b[0m in \u001b[0;36m<module>\u001b[0;34m\u001b[0m\n\u001b[0;32m----> 1\u001b[0;31m \u001b[0mall_to_all\u001b[0m\u001b[0;34m(\u001b[0m\u001b[0mstructs\u001b[0m\u001b[0;34m,\u001b[0m \u001b[0mbp_lists\u001b[0m\u001b[0;34m)\u001b[0m\u001b[0;34m\u001b[0m\u001b[0;34m\u001b[0m\u001b[0m\n\u001b[0m",
      "\u001b[0;31mNameError\u001b[0m: name 'structs' is not defined"
     ]
    }
   ],
   "source": [
    "all_to_all(structs, bp_lists)"
   ]
  },
  {
   "cell_type": "code",
   "execution_count": 4,
   "id": "e40c4bef",
   "metadata": {},
   "outputs": [
    {
     "name": "stdout",
     "output_type": "stream",
     "text": [
      "1369\n",
      "1369\n"
     ]
    }
   ],
   "source": [
    "## getting info from lists of csvs \n",
    "\n",
    "def get_csv(csv_loc):\n",
    "    df = pd.read_csv(csv_loc)\n",
    "    return df\n",
    "\n",
    "def get_info(df):\n",
    "    starts = df['start'].to_list()\n",
    "    ends = df['end'].to_list()\n",
    "    sequences = df['sequence'].to_list()\n",
    "    dotbrackets = df['struct'].to_list()\n",
    "    \n",
    "    return starts, ends, sequences, dotbrackets\n",
    "\n",
    "def get_info_from_shapeknots(df):\n",
    "    starts = (df['start']-1).to_list()\n",
    "    ends = df['end'].to_list()\n",
    "    sequences = df['sequence'].to_list()\n",
    "    dotbrackets = df['threshknot_structure'].to_list()\n",
    "    \n",
    "    return starts, ends, sequences, dotbrackets\n",
    "\n",
    "def check_if_shapeknots(name, shapeknots_names):\n",
    "    for program in shapeknots_names: \n",
    "        if name == program: \n",
    "            return True\n",
    "\n",
    "names = ['knotty', 'threshknot', 'pknots', 'incarnato_invitro', 'incarnato_invivo', 'zhang_invivo', 'zhang_invitro', 'pyle']\n",
    "shapeknots_names = ['incarnato_invitro', 'incarnato_invivo', 'zhang_invivo', 'zhang_invitro', 'pyle']\n",
    "\n",
    "all_programs = []\n",
    "all_starts = []\n",
    "all_ends = []\n",
    "all_sequences = []\n",
    "all_dotbrackets = []\n",
    "\n",
    "for name in names:\n",
    "    df = get_csv('/home/gnye8/Desktop/PK_research/pipeline_results/direct_output/{}.csv'.format(name))\n",
    "    \n",
    "    if check_if_shapeknots(name, shapeknots_names):\n",
    "        starts, ends, sequences, dotbrackets = get_info_from_shapeknots(df)\n",
    "    elif not check_if_shapeknots(name, shapeknots_names):\n",
    "        starts, ends, sequences, dotbrackets = get_info(df)\n",
    "    \n",
    "    for i in range(len(starts)):\n",
    "        all_programs.append(name)\n",
    "    all_starts = all_starts + starts\n",
    "    all_ends = all_ends + ends\n",
    "    all_sequences = all_sequences + sequences\n",
    "    all_dotbrackets = all_dotbrackets + dotbrackets\n",
    "\n",
    "print(len(all_programs))\n",
    "print(len(all_starts))"
   ]
  },
  {
   "cell_type": "code",
   "execution_count": 5,
   "id": "403b025c",
   "metadata": {},
   "outputs": [],
   "source": [
    "def compare_bp_lists(bp_list1, bp_list2):\n",
    "    bp_list_score = 0\n",
    "    for bp1 in bp_list1: \n",
    "        for bp2 in bp_list2: \n",
    "            if bp1 == bp2: \n",
    "                bp_list_score += 1\n",
    "        # divide by total number of base pairs in bp_list1 to normalize results\n",
    "    return bp_list_score/len(bp_list1)\n",
    "\n",
    "def check_if_same_window(start1, program2_starts):\n",
    "    for start2 in program2_starts: \n",
    "        if start1 == start2: \n",
    "            return True\n",
    "\n",
    "def get_consensus_scores(program1_starts, bp_lists1, program2_starts, bp_lists2):\n",
    "    scores = []\n",
    "    for i, start1 in enumerate(program1_starts):\n",
    "        if check_if_same_window(start1, program2_starts):\n",
    "            for idx, start2 in enumerate(program2_starts):\n",
    "                if start1 == start2:\n",
    "                    bp_list1 = bp_lists1[i]\n",
    "                    bp_list2 = bp_lists2[idx]\n",
    "                    bp_list_score = compare_bp_lists(bp_list1, bp_list2)\n",
    "                    scores.append(bp_list_score)\n",
    "        elif not check_if_same_window(start1, program2_starts):\n",
    "            scores.append(0)\n",
    "    return scores\n",
    "\n",
    "def get_weighted_consensus(starts_by_program, bp_lists_by_program):\n",
    "    weighted_avgs = []\n",
    "    for idx1, program1_starts in enumerate(starts_by_program):\n",
    "        program1_bp_lists = bp_lists_by_program[idx1]\n",
    "        program1_consensus_scores = []\n",
    "        for idx2, program2_starts in enumerate(starts_by_program):\n",
    "            if idx1 != idx2:\n",
    "                program2_bp_lists = bp_lists_by_program[idx2]\n",
    "                consensus_scores = get_consensus_scores(program1_starts, program1_bp_lists, program2_starts, program2_bp_lists)\n",
    "                program1_consensus_scores.append(consensus_scores)\n",
    "        \n",
    "        program1_weighted_avgs = []\n",
    "        for i in range(len(program1_consensus_scores[0])):\n",
    "            window = []\n",
    "            for program in program1_consensus_scores:\n",
    "                window.append(program[i])\n",
    "            weighted_avg = sum(window)/len(window)\n",
    "            program1_weighted_avgs.append(weighted_avg)\n",
    "            \n",
    "        weighted_avgs = weighted_avgs + program1_weighted_avgs\n",
    "    return weighted_avgs"
   ]
  },
  {
   "cell_type": "code",
   "execution_count": 102,
   "id": "a3cbee80",
   "metadata": {},
   "outputs": [
    {
     "name": "stdout",
     "output_type": "stream",
     "text": [
      "[[40, 50, 60], [40, 50, 60], [40, 50]]\n",
      "[[[[1, 5], [2, 4]], [[1, 9], [3, 7]], [[3, 6], [2, 7]]], [[[1, 5], [2, 4]], [[1, 9], [3, 8]], [[3, 6], [2, 7]]], [[[1, 5], [2, 4]], [[1, 9], [3, 7]]]]\n"
     ]
    }
   ],
   "source": [
    "program1_starts = [40, 50, 60]\n",
    "program2_starts = [40, 50, 60]\n",
    "program3_starts = [40, 50]\n",
    "\n",
    "program1_bp_list1 = [[1, 5], [2, 4]]\n",
    "program1_bp_list2 = [[1, 9], [3, 7]]\n",
    "program1_bp_list3 = [[3, 6], [2, 7]]\n",
    "\n",
    "program2_bp_list1 = [[1, 5], [2, 4]]\n",
    "program2_bp_list2 = [[1, 9], [3, 8]]\n",
    "program2_bp_list3 = [[3, 6], [2, 7]]\n",
    "\n",
    "program3_bp_list1 = [[1, 5], [2, 4]]\n",
    "program3_bp_list2 = [[1, 9], [3, 7]]\n",
    "\n",
    "starts = []\n",
    "starts.append(program1_starts)\n",
    "starts.append(program2_starts)\n",
    "starts.append(program3_starts)\n",
    "\n",
    "program1_bp_lists = []\n",
    "program1_bp_lists.append(program1_bp_list1)\n",
    "program1_bp_lists.append(program1_bp_list2)\n",
    "program1_bp_lists.append(program1_bp_list3)\n",
    "\n",
    "program2_bp_lists = []\n",
    "program2_bp_lists.append(program2_bp_list1)\n",
    "program2_bp_lists.append(program2_bp_list2)\n",
    "program2_bp_lists.append(program2_bp_list3)\n",
    "\n",
    "program3_bp_lists = []\n",
    "program3_bp_lists.append(program3_bp_list1)\n",
    "program3_bp_lists.append(program3_bp_list2)\n",
    "\n",
    "bp_lists = []\n",
    "bp_lists.append(program1_bp_lists)\n",
    "bp_lists.append(program2_bp_lists)\n",
    "bp_lists.append(program3_bp_lists)\n",
    "\n",
    "print(starts)\n",
    "print(bp_lists)"
   ]
  },
  {
   "cell_type": "code",
   "execution_count": 103,
   "id": "82372c17",
   "metadata": {},
   "outputs": [
    {
     "data": {
      "text/plain": [
       "[1.0, 0.75, 0.5, 1.0, 0.5, 0.5, 1.0, 0.75]"
      ]
     },
     "execution_count": 103,
     "metadata": {},
     "output_type": "execute_result"
    }
   ],
   "source": [
    "get_weighted_consensus(starts, bp_lists)"
   ]
  },
  {
   "cell_type": "code",
   "execution_count": null,
   "id": "0f5b98c9",
   "metadata": {},
   "outputs": [],
   "source": []
  }
 ],
 "metadata": {
  "kernelspec": {
   "display_name": "Python 3",
   "language": "python",
   "name": "python3"
  },
  "language_info": {
   "codemirror_mode": {
    "name": "ipython",
    "version": 3
   },
   "file_extension": ".py",
   "mimetype": "text/x-python",
   "name": "python",
   "nbconvert_exporter": "python",
   "pygments_lexer": "ipython3",
   "version": "3.8.8"
  }
 },
 "nbformat": 4,
 "nbformat_minor": 5
}
