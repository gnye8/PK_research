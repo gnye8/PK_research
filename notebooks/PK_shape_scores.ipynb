{
 "cells": [
  {
   "cell_type": "code",
   "execution_count": 1,
   "id": "24cc04ea",
   "metadata": {},
   "outputs": [
    {
     "ename": "ImportError",
     "evalue": "cannot import name 'evaluate_L1_shape_score' from 'arnie.utils' (/home/gnye8/Desktop/PK_research/arnie/utils.py)",
     "output_type": "error",
     "traceback": [
      "\u001b[0;31m---------------------------------------------------------------------------\u001b[0m",
      "\u001b[0;31mImportError\u001b[0m                               Traceback (most recent call last)",
      "\u001b[0;32m<ipython-input-1-3668f1d7a847>\u001b[0m in \u001b[0;36m<module>\u001b[0;34m\u001b[0m\n\u001b[0;32m----> 1\u001b[0;31m \u001b[0;32mfrom\u001b[0m \u001b[0marnie\u001b[0m\u001b[0;34m.\u001b[0m\u001b[0mutils\u001b[0m \u001b[0;32mimport\u001b[0m \u001b[0mevaluate_L1_shape_score\u001b[0m\u001b[0;34m\u001b[0m\u001b[0;34m\u001b[0m\u001b[0m\n\u001b[0m\u001b[1;32m      2\u001b[0m \u001b[0mevaluate_L1_shape_score\u001b[0m\u001b[0;34m(\u001b[0m\u001b[0;34m\".(.).\"\u001b[0m\u001b[0;34m,\u001b[0m\u001b[0;34m[\u001b[0m\u001b[0;36m0.2\u001b[0m\u001b[0;34m,\u001b[0m\u001b[0;36m0.5\u001b[0m\u001b[0;34m,\u001b[0m\u001b[0;36m0.32\u001b[0m\u001b[0;34m,\u001b[0m\u001b[0;36m0.43\u001b[0m\u001b[0;34m,\u001b[0m\u001b[0;36m0.4\u001b[0m\u001b[0;34m]\u001b[0m\u001b[0;34m)\u001b[0m\u001b[0;34m\u001b[0m\u001b[0;34m\u001b[0m\u001b[0m\n",
      "\u001b[0;31mImportError\u001b[0m: cannot import name 'evaluate_L1_shape_score' from 'arnie.utils' (/home/gnye8/Desktop/PK_research/arnie/utils.py)"
     ]
    }
   ],
   "source": [
    "from arnie.utils import evaluate_L1_shape_score\n",
    "evaluate_L1_shape_score(\".(.).\",[0.2,0.5,0.32,0.43,0.4])\n",
    "\n",
    "def evaluate_L1_shape_score(s,shape):\n",
    "    score = 0\n",
    "    for c,react in zip(s,shape):\n",
    "        if (c==\".\" and react>0.25) or (c!=\".\" and react<0.5):\n",
    "            score += 1\n",
    "    return score/len(s)"
   ]
  },
  {
   "cell_type": "code",
   "execution_count": null,
   "id": "b6c00dcc",
   "metadata": {},
   "outputs": [],
   "source": []
  }
 ],
 "metadata": {
  "kernelspec": {
   "display_name": "Python 3",
   "language": "python",
   "name": "python3"
  },
  "language_info": {
   "codemirror_mode": {
    "name": "ipython",
    "version": 3
   },
   "file_extension": ".py",
   "mimetype": "text/x-python",
   "name": "python",
   "nbconvert_exporter": "python",
   "pygments_lexer": "ipython3",
   "version": "3.8.8"
  }
 },
 "nbformat": 4,
 "nbformat_minor": 5
}
